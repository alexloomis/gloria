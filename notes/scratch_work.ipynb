{
 "cells": [
  {
   "cell_type": "code",
   "execution_count": 1,
   "id": "e69c1675-21fd-492f-84e5-73f6b9528985",
   "metadata": {},
   "outputs": [],
   "source": [
    "using Random\n",
    ";"
   ]
  },
  {
   "cell_type": "code",
   "execution_count": 2,
   "id": "bd7c7249-4207-41c0-a8ac-307392cbfa3a",
   "metadata": {},
   "outputs": [],
   "source": [
    "# probability that 2d6+n > 2d6\n",
    "function prob_beats(n)\n",
    "    p = 0.0\n",
    "    for die1 in 1:6\n",
    "        for die2 in 1:6\n",
    "            for die3 in 1:6\n",
    "                for die4 in 1:6\n",
    "                    if die1 + die2 + n > die3 + die4\n",
    "                        p += 6.0^(-4.0)\n",
    "                    end\n",
    "                end\n",
    "            end\n",
    "        end\n",
    "    end\n",
    "    return p\n",
    "end\n",
    ";"
   ]
  },
  {
   "cell_type": "code",
   "execution_count": 3,
   "id": "3abf5f3a-2c48-4bce-9a40-c6691168ecb8",
   "metadata": {},
   "outputs": [],
   "source": [
    "# probability that 2d6+n > 2d6 before 2d6 > 2d6+n, alternating rolls. Equal probability of going first\n",
    "# p_go_first(n) = p_n + (1-p_n)*(1-p_-n) p_n + ... + (1-p_n)^n (1-p_-n)^n * p_n + ... = p_n / (1 - (1-p_n)*(1-p_-n))\n",
    "# p_go_second(n) = 1 - p_go_first(-n)\n",
    "function prob_hit_first(n)\n",
    "    denom = prob_beats(n) - prob_beats(n) * prob_beats(-n) + prob_beats(-n)\n",
    "    go_first_hit_first = prob_beats(n) / denom\n",
    "    go_second_hit_first = 1 - prob_beats(-n) / denom\n",
    "    return 0.5 * (go_first_hit_first + go_second_hit_first)\n",
    "end\n",
    ";"
   ]
  },
  {
   "cell_type": "code",
   "execution_count": 4,
   "id": "d5795509-e583-4143-9c03-62be7aa26448",
   "metadata": {},
   "outputs": [
    {
     "name": "stdout",
     "output_type": "stream",
     "text": [
      "The probability of hitting first with an advantage of 0 is 0.5\n",
      "The probability of hitting first with an advantage of 1 is 0.6564555384743943\n",
      "The probability of hitting first with an advantage of 2 is 0.7854771624986165\n",
      "The probability of hitting first with an advantage of 3 is 0.8767116140822608\n",
      "The probability of hitting first with an advantage of 4 is 0.9342233677835862\n",
      "The probability of hitting first with an advantage of 5 is 0.9673669302490246\n",
      "The probability of hitting first with an advantage of 6 is 0.9849781254359509\n",
      "The probability of hitting first with an advantage of 7 is 0.9938936775017567\n",
      "The probability of hitting first with an advantage of 8 is 0.9980259009029356\n",
      "The probability of hitting first with an advantage of 9 is 0.9996112102924978\n",
      "The probability of hitting first with an advantage of 10 is 1.0\n",
      "The probability of hitting first with an advantage of 11 is 1.0\n",
      "The probability of hitting first with an advantage of 12 is 1.0\n"
     ]
    }
   ],
   "source": [
    "for n in 0:12\n",
    "    println(\"The probability of hitting first with an advantage of \", n, \" is \", prob_hit_first(n))\n",
    "end"
   ]
  },
  {
   "cell_type": "code",
   "execution_count": 23,
   "id": "17da4b4d-b1e9-4e9d-abe1-ade9d5df4b29",
   "metadata": {},
   "outputs": [
    {
     "name": "stdout",
     "output_type": "stream",
     "text": [
      "A unit with a bonus of 0 is comparable to 1.0 units with no bonus.\n",
      "A unit with a bonus of 1 is comparable to 1.91 units with no bonus.\n",
      "A unit with a bonus of 2 is comparable to 3.66 units with no bonus.\n",
      "A unit with a bonus of 3 is comparable to 7.11 units with no bonus.\n",
      "A unit with a bonus of 4 is comparable to 14.2 units with no bonus.\n",
      "A unit with a bonus of 5 is comparable to 29.64 units with no bonus.\n",
      "A unit with a bonus of 6 is comparable to 65.57 units with no bonus.\n",
      "A unit with a bonus of 7 is comparable to 162.76 units with no bonus.\n",
      "A unit with a bonus of 8 is comparable to 505.56 units with no bonus.\n",
      "A unit with a bonus of 9 is comparable to 2571.08 units with no bonus.\n",
      "A unit with a bonus of 10 is comparable to Inf units with no bonus.\n"
     ]
    }
   ],
   "source": [
    "# 1/3 -> *0.5\n",
    "# 1/2 -> *1\n",
    "# 2/3 -> *2\n",
    "# 3/4 -> *3\n",
    "# 4/5 -> *4\n",
    "for n in 0:10\n",
    "    relative = prob_hit_first(n) / (1 - prob_hit_first(n))\n",
    "    println(\"A unit with a bonus of \", n, \" is comparable to \", round(relative, digits=2), \" units with no bonus.\")\n",
    "end"
   ]
  },
  {
   "cell_type": "code",
   "execution_count": null,
   "id": "90647d61-1835-485b-bfa5-8bec507e78a2",
   "metadata": {},
   "outputs": [],
   "source": [
    "# It takes 1000 /   3.66 = 273 at +2 to beat 1000 at +0\n",
    "# It takes 1000 / 505.56 =   2 at +8 to beat 1000 at +0\n",
    "# It takes  273 /  65.57 =   4 at +8 to beat  273 at +2\n",
    "\n",
    "# It takes 0.2 at +9 to beat 1000 at +0\n",
    "# It takes 273 / 162.76 = 1.67 at +9 etc\n",
    "\n",
    "# For +n with 0 <= n <= 6, it's very close to comparable to 2^n with +0\n",
    "# For +n with 7 <= n <= 10, it grows significantly quicker, diverging at n = 10\n",
    "\n",
    "# Stronger unit actually does somewhat better because as hits are traded, the individual unit is not weakened but the group is"
   ]
  }
 ],
 "metadata": {
  "kernelspec": {
   "display_name": "Julia 1.10.5",
   "language": "julia",
   "name": "julia-1.10"
  },
  "language_info": {
   "file_extension": ".jl",
   "mimetype": "application/julia",
   "name": "julia",
   "version": "1.10.5"
  }
 },
 "nbformat": 4,
 "nbformat_minor": 5
}
